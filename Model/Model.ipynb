{
 "cells": [
  {
   "cell_type": "markdown",
   "id": "dd891357",
   "metadata": {},
   "source": [
    "# CNN model for operator and operand classification"
   ]
  },
  {
   "cell_type": "code",
   "execution_count": null,
   "id": "4242a6a8",
   "metadata": {},
   "outputs": [],
   "source": [
    "%autosave 30"
   ]
  },
  {
   "cell_type": "code",
   "execution_count": 1,
   "id": "e73a6781",
   "metadata": {},
   "outputs": [],
   "source": [
    "import random\n",
    "import numpy as np\n",
    "import pickle\n",
    "import os\n",
    "import cv2\n",
    "import matplotlib.pyplot as plt\n",
    "import keras\n",
    "import tensorflow as tf\n",
    "from keras.models import Sequential\n",
    "from keras.layers import Dense, Dropout, Activation, Conv2D, Flatten, MaxPool2D, GlobalAveragePooling2D\n",
    "from keras.callbacks import EarlyStopping\n",
    "import pandas as pd"
   ]
  },
  {
   "cell_type": "markdown",
   "id": "b6959589",
   "metadata": {},
   "source": [
    "## Preparing dataset"
   ]
  },
  {
   "cell_type": "markdown",
   "id": "f6a204de",
   "metadata": {},
   "source": [
    "The true labels are declared."
   ]
  },
  {
   "cell_type": "code",
   "execution_count": 2,
   "id": "bb1469b7",
   "metadata": {},
   "outputs": [],
   "source": [
    "true_labels = ['0','1','2','3','4','5','6','7','8','9','+','-','*','/','(',')','^']"
   ]
  },
  {
   "cell_type": "markdown",
   "id": "83bebb25",
   "metadata": {},
   "source": [
    "Images are loaded and coupled with their labels."
   ]
  },
  {
   "cell_type": "code",
   "execution_count": 3,
   "id": "8b4e62c2",
   "metadata": {},
   "outputs": [],
   "source": [
    "data = []\n",
    "p='Dataset/dataset'\n",
    "\n",
    "for label in os.listdir(p):\n",
    "    img = os.path.join(p,label)\n",
    "\n",
    "    for image in os.listdir(img):\n",
    "        path = os.path.join(img, image)\n",
    "\n",
    "        pic = cv2.imread(path, 0)\n",
    "\n",
    "        if label=='X':\n",
    "            data.append([pic, true_labels.index('*')])\n",
    "        elif label=='div':\n",
    "            data.append([pic, true_labels.index('/')])\n",
    "        else:\n",
    "            data.append([pic, true_labels.index(label)])"
   ]
  },
  {
   "cell_type": "code",
   "execution_count": 4,
   "id": "375462e8",
   "metadata": {},
   "outputs": [
    {
     "data": {
      "text/plain": [
       "120628"
      ]
     },
     "execution_count": 4,
     "metadata": {},
     "output_type": "execute_result"
    }
   ],
   "source": [
    "len(data)"
   ]
  },
  {
   "cell_type": "markdown",
   "id": "1466dd4d",
   "metadata": {},
   "source": [
    "The image-label pairs are shuffled to remove bias."
   ]
  },
  {
   "cell_type": "code",
   "execution_count": 5,
   "id": "841cd662",
   "metadata": {},
   "outputs": [],
   "source": [
    "random.shuffle(data)"
   ]
  },
  {
   "cell_type": "markdown",
   "id": "4c69aa45",
   "metadata": {},
   "source": [
    "The images and labels are divided into 2 different Lists."
   ]
  },
  {
   "cell_type": "code",
   "execution_count": 6,
   "id": "37dc7d66",
   "metadata": {},
   "outputs": [],
   "source": [
    "X = []\n",
    "y = []\n",
    "for img, lbl in data:\n",
    "    X.append(img)\n",
    "    y.append(lbl)"
   ]
  },
  {
   "cell_type": "markdown",
   "id": "e1dfcbf9",
   "metadata": {},
   "source": [
    "Print a sample."
   ]
  },
  {
   "cell_type": "code",
   "execution_count": 10,
   "id": "d77cef58",
   "metadata": {},
   "outputs": [
    {
     "name": "stdout",
     "output_type": "stream",
     "text": [
      "1\n",
      "(64, 64)\n"
     ]
    },
    {
     "data": {
      "text/plain": [
       "<matplotlib.image.AxesImage at 0x1992844c790>"
      ]
     },
     "execution_count": 10,
     "metadata": {},
     "output_type": "execute_result"
    },
    {
     "data": {
      "image/png": "[encoded data removed]",
      "text/plain": [
       "<Figure size 432x288 with 1 Axes>"
      ]
     },
     "metadata": {
      "needs_background": "light"
     },
     "output_type": "display_data"
    }
   ],
   "source": [
    "i=1\n",
    "print(true_labels[y[i]])\n",
    "print(X[i].shape)\n",
    "plt.imshow(X[i], 'gray')"
   ]
  },
  {
   "cell_type": "markdown",
   "id": "af98cec6",
   "metadata": {},
   "source": [
    "Resize the image into a 4D tensor.\n",
    "Normalise the image pixel values between 0 and 1."
   ]
  },
  {
   "cell_type": "code",
   "execution_count": 11,
   "id": "4f4ef462",
   "metadata": {},
   "outputs": [],
   "source": [
    "X=np.array(X)\n",
    "y=np.array(y)\n",
    "\n",
    "X = X.reshape(-1, 64, 64, 1)\n",
    "X = X / 255\n",
    "# print(X)"
   ]
  },
  {
   "cell_type": "code",
   "execution_count": 12,
   "id": "7d0de240",
   "metadata": {},
   "outputs": [],
   "source": [
    "np.save(\"Data/data_170322_rm.npy\", X)\n",
    "np.save(\"Data/labels_170322_rm.npy\", y)"
   ]
  },
  {
   "cell_type": "code",
   "execution_count": 13,
   "id": "d16142f5",
   "metadata": {},
   "outputs": [
    {
     "data": {
      "text/plain": [
       "120628"
      ]
     },
     "execution_count": 13,
     "metadata": {},
     "output_type": "execute_result"
    }
   ],
   "source": [
    "len(X)"
   ]
  },
  {
   "cell_type": "markdown",
   "id": "fe656ec2",
   "metadata": {},
   "source": [
    "## Model creation"
   ]
  },
  {
   "cell_type": "markdown",
   "id": "5581b5be",
   "metadata": {},
   "source": [
    "Set input size and no. of classes."
   ]
  },
  {
   "cell_type": "code",
   "execution_count": 14,
   "id": "e7ed82cf",
   "metadata": {},
   "outputs": [
    {
     "name": "stdout",
     "output_type": "stream",
     "text": [
      "17 (64, 64, 1)\n"
     ]
    }
   ],
   "source": [
    "num_classes = len(true_labels)\n",
    "input_shape=X[0].shape\n",
    "\n",
    "print(num_classes, input_shape)"
   ]
  },
  {
   "cell_type": "markdown",
   "id": "047f6b52",
   "metadata": {},
   "source": [
    "Create a CNN model using Sequential class of keras."
   ]
  },
  {
   "cell_type": "code",
   "execution_count": 15,
   "id": "7f685d53",
   "metadata": {},
   "outputs": [],
   "source": [
    "model=Sequential()\n",
    "\n",
    "model.add(Conv2D(32, (5,5), activation=\"relu\",input_shape=input_shape, strides=(1, 1), padding='same'))\n",
    "model.add(MaxPool2D(pool_size=(4, 4), strides=(2,2), padding='same'))\n",
    "model.add(Dropout(0.1))\n",
    "\n",
    "model.add(Conv2D(32, (3,3), activation=\"relu\", strides=(1, 1), padding='same'))\n",
    "model.add(MaxPool2D(pool_size=(2, 2), strides=(1,1), padding='same'))\n",
    "\n",
    "model.add(Conv2D(64, (3,3), activation=\"relu\", strides=(1, 1), padding='same'))\n",
    "model.add(MaxPool2D(pool_size=(2, 2), strides=(1,1), padding='same'))\n",
    "\n",
    "model.add(Conv2D(64, (3,3), activation=\"relu\", strides=(1, 1), padding='same'))\n",
    "model.add(MaxPool2D(pool_size=(2, 2), strides=(2,2), padding='same'))\n",
    "model.add(Dropout(0.2))\n",
    "\n",
    "model.add(Conv2D(128, (3,3), activation=\"relu\", strides=(1, 1), padding='same'))\n",
    "model.add(Dropout(0.3))\n",
    "model.add(Conv2D(128, (3,3), activation=\"relu\", strides=(1, 1), padding='same'))\n",
    "model.add(MaxPool2D(pool_size=(2, 2), strides=(2,2), padding='same'))\n",
    "\n",
    "model.add(Flatten())\n",
    "model.add(Dense(128, activation='relu'))\n",
    "model.add(Dropout(0.2))\n",
    "model.add(Dense(256, activation='relu'))\n",
    "# model.add(Dropout(0.1))\n",
    "model.add(Dense(num_classes, activation='softmax'))"
   ]
  },
  {
   "cell_type": "markdown",
   "id": "94579f4d",
   "metadata": {},
   "source": [
    "Model summary."
   ]
  },
  {
   "cell_type": "code",
   "execution_count": 16,
   "id": "1e4409d3",
   "metadata": {},
   "outputs": [
    {
     "name": "stdout",
     "output_type": "stream",
     "text": [
      "Model: \"sequential\"\n",
      "_________________________________________________________________\n",
      " Layer (type)                Output Shape              Param #   \n",
      "=================================================================\n",
      " conv2d (Conv2D)             (None, 64, 64, 32)        832       \n",
      "                                                                 \n",
      " max_pooling2d (MaxPooling2D  (None, 32, 32, 32)       0         \n",
      " )                                                               \n",
      "                                                                 \n",
      " dropout (Dropout)           (None, 32, 32, 32)        0         \n",
      "                                                                 \n",
      " conv2d_1 (Conv2D)           (None, 32, 32, 32)        9248      \n",
      "                                                                 \n",
      " max_pooling2d_1 (MaxPooling  (None, 32, 32, 32)       0         \n",
      " 2D)                                                             \n",
      "                                                                 \n",
      " conv2d_2 (Conv2D)           (None, 32, 32, 64)        18496     \n",
      "                                                                 \n",
      " max_pooling2d_2 (MaxPooling  (None, 32, 32, 64)       0         \n",
      " 2D)                                                             \n",
      "                                                                 \n",
      " conv2d_3 (Conv2D)           (None, 32, 32, 64)        36928     \n",
      "                                                                 \n",
      " max_pooling2d_3 (MaxPooling  (None, 16, 16, 64)       0         \n",
      " 2D)                                                             \n",
      "                                                                 \n",
      " dropout_1 (Dropout)         (None, 16, 16, 64)        0         \n",
      "                                                                 \n",
      " conv2d_4 (Conv2D)           (None, 16, 16, 128)       73856     \n",
      "                                                                 \n",
      " dropout_2 (Dropout)         (None, 16, 16, 128)       0         \n",
      "                                                                 \n",
      " conv2d_5 (Conv2D)           (None, 16, 16, 128)       147584    \n",
      "                                                                 \n",
      " max_pooling2d_4 (MaxPooling  (None, 8, 8, 128)        0         \n",
      " 2D)                                                             \n",
      "                                                                 \n",
      " flatten (Flatten)           (None, 8192)              0         \n",
      "                                                                 \n",
      " dense (Dense)               (None, 128)               1048704   \n",
      "                                                                 \n",
      " dropout_3 (Dropout)         (None, 128)               0         \n",
      "                                                                 \n",
      " dense_1 (Dense)             (None, 256)               33024     \n",
      "                                                                 \n",
      " dense_2 (Dense)             (None, 17)                4369      \n",
      "                                                                 \n",
      "=================================================================\n",
      "Total params: 1,373,041\n",
      "Trainable params: 1,373,041\n",
      "Non-trainable params: 0\n",
      "_________________________________________________________________\n"
     ]
    }
   ],
   "source": [
    "# model.compile(loss=\"sparse_categorical_crossentropy\", optimizer=tf.keras.optimizers.Adam(learning_rate=0.0003),\n",
    "#               metrics=['accuracy'])\n",
    "\n",
    "model.compile(loss=\"sparse_categorical_crossentropy\", optimizer='adam',\n",
    "              metrics=['accuracy'])\n",
    "\n",
    "model.summary()"
   ]
  },
  {
   "cell_type": "markdown",
   "id": "606ac944",
   "metadata": {},
   "source": [
    "Set model training parameters."
   ]
  },
  {
   "cell_type": "code",
   "execution_count": 17,
   "id": "ec32c71e",
   "metadata": {},
   "outputs": [],
   "source": [
    "early_stopping = EarlyStopping(\n",
    "    min_delta=0.001,\n",
    "    patience=2,\n",
    "    restore_best_weights=True,\n",
    ")"
   ]
  },
  {
   "cell_type": "code",
   "execution_count": 18,
   "id": "8ad68927",
   "metadata": {},
   "outputs": [],
   "source": [
    "batch_size = 64\n",
    "epochs = 30"
   ]
  },
  {
   "cell_type": "markdown",
   "id": "522012db",
   "metadata": {},
   "source": [
    "Split the dataset into 70% train and 30% test data. Train the model and store the training history."
   ]
  },
  {
   "cell_type": "code",
   "execution_count": 19,
   "id": "bb2d0cc6",
   "metadata": {},
   "outputs": [
    {
     "name": "stdout",
     "output_type": "stream",
     "text": [
      "Epoch 1/30\n",
      "1320/1320 [==============================] - 630s 477ms/step - loss: 0.2604 - accuracy: 0.9174 - val_loss: 0.0521 - val_accuracy: 0.9837\n",
      "Epoch 2/30\n",
      "1320/1320 [==============================] - 541s 410ms/step - loss: 0.0598 - accuracy: 0.9809 - val_loss: 0.0244 - val_accuracy: 0.9924\n",
      "Epoch 3/30\n",
      "1320/1320 [==============================] - 541s 410ms/step - loss: 0.0439 - accuracy: 0.9863 - val_loss: 0.0248 - val_accuracy: 0.9915\n",
      "Epoch 4/30\n",
      "1320/1320 [==============================] - 544s 412ms/step - loss: 0.0328 - accuracy: 0.9897 - val_loss: 0.0196 - val_accuracy: 0.9934\n",
      "Epoch 5/30\n",
      "1320/1320 [==============================] - 526s 399ms/step - loss: 0.0288 - accuracy: 0.9910 - val_loss: 0.0108 - val_accuracy: 0.9964\n",
      "Epoch 6/30\n",
      "1320/1320 [==============================] - 541s 410ms/step - loss: 0.0265 - accuracy: 0.9917 - val_loss: 0.0148 - val_accuracy: 0.9952\n",
      "Epoch 7/30\n",
      "1320/1320 [==============================] - 542s 410ms/step - loss: 0.0199 - accuracy: 0.9939 - val_loss: 0.0124 - val_accuracy: 0.9958\n",
      "The model has successfully trained\n"
     ]
    }
   ],
   "source": [
    "history = model.fit(X, y, batch_size=batch_size, epochs=epochs, validation_split=0.3, callbacks=[early_stopping])\n",
    "# history = model.fit(X, y, batch_size=batch_size, epochs=epochs, validation_split=0.3)\n",
    "\n",
    "print(\"The model has successfully trained\")"
   ]
  },
  {
   "cell_type": "markdown",
   "id": "bf7d8900",
   "metadata": {},
   "source": [
    "Access and display validation loss and accuracy."
   ]
  },
  {
   "cell_type": "code",
   "execution_count": 20,
   "id": "8956ae5a",
   "metadata": {},
   "outputs": [
    {
     "name": "stdout",
     "output_type": "stream",
     "text": [
      "Minimum validation loss: 0.010760299861431122\n"
     ]
    },
    {
     "data": {
      "image/png": "[encoded data removed]",
      "text/plain": [
       "<Figure size 432x288 with 1 Axes>"
      ]
     },
     "metadata": {
      "needs_background": "light"
     },
     "output_type": "display_data"
    }
   ],
   "source": [
    "history_df = pd.DataFrame(history.history)\n",
    "history_df.loc[:, ['loss', 'val_loss']].plot()\n",
    "print(\"Minimum validation loss: {}\".format(history_df['val_loss'].min()))"
   ]
  },
  {
   "cell_type": "code",
   "execution_count": null,
   "id": "7bc96377",
   "metadata": {},
   "outputs": [],
   "source": [
    "history_df.columns"
   ]
  },
  {
   "cell_type": "code",
   "execution_count": 21,
   "id": "650ecd28",
   "metadata": {},
   "outputs": [
    {
     "name": "stdout",
     "output_type": "stream",
     "text": [
      "Maximum validation accuracy: 0.9964354038238525\n"
     ]
    },
    {
     "data": {
      "image/png": "[encoded data removed]",
      "text/plain": [
       "<Figure size 432x288 with 1 Axes>"
      ]
     },
     "metadata": {
      "needs_background": "light"
     },
     "output_type": "display_data"
    }
   ],
   "source": [
    "history_df.loc[:, ['accuracy', 'val_accuracy']].plot()\n",
    "print(\"Maximum validation accuracy: {}\".format(history_df['val_accuracy'].max()))"
   ]
  },
  {
   "cell_type": "markdown",
   "id": "22fc7861",
   "metadata": {},
   "source": [
    "Save the model."
   ]
  },
  {
   "cell_type": "code",
   "execution_count": 22,
   "id": "6a4fcd65",
   "metadata": {},
   "outputs": [],
   "source": [
    "model.save('models/model_170322_64b_rm.h5')"
   ]
  },
  {
   "cell_type": "code",
   "execution_count": 74,
   "id": "6466f255",
   "metadata": {},
   "outputs": [],
   "source": [
    "i=0"
   ]
  },
  {
   "cell_type": "markdown",
   "id": "fdbbd288",
   "metadata": {},
   "source": [
    "Test the model."
   ]
  },
  {
   "cell_type": "code",
   "execution_count": 75,
   "id": "60d085b6",
   "metadata": {},
   "outputs": [
    {
     "name": "stdout",
     "output_type": "stream",
     "text": [
      "0.66603684 \n",
      "\n",
      "[2.48169999e-06 1.07537846e-04 2.91491205e-07 6.66036844e-01\n",
      " 1.80807888e-06 8.80044317e-05 1.85264355e-07 8.72661769e-02\n",
      " 6.79656514e-05 4.18893658e-02 1.86283430e-07 6.11948181e-08\n",
      " 3.58695587e-07 7.18814647e-07 8.12655987e-09 2.04532474e-01\n",
      " 5.55995621e-06] \n",
      "\n",
      "3\n"
     ]
    },
    {
     "data": {
      "image/png": "[encoded data removed]",
      "text/plain": [
       "<Figure size 432x288 with 1 Axes>"
      ]
     },
     "metadata": {
      "needs_background": "light"
     },
     "output_type": "display_data"
    }
   ],
   "source": [
    "img = cv2.imread(f\"C:/Users/rhita/Documents/GitHub/picture-calculator/images/ROI_{i}.png\",0)\n",
    "plt.imshow(img, \"gray\")\n",
    "img=img.reshape(-1,64,64,1)\n",
    "img = img/255\n",
    "\n",
    "predict = model.predict(img)\n",
    "\n",
    "print( predict[0].max(), '\\n' )\n",
    "print( predict[0], '\\n' )\n",
    "print( true_labels[ np.argmax(predict[0])])\n",
    "\n",
    "i+=1"
   ]
  },
  {
   "cell_type": "markdown",
   "id": "eba691e2",
   "metadata": {},
   "source": [
    "Load saved model and print summary."
   ]
  },
  {
   "cell_type": "code",
   "execution_count": 1,
   "id": "b42a7a21",
   "metadata": {},
   "outputs": [
    {
     "name": "stdout",
     "output_type": "stream",
     "text": [
      "Model: \"sequential\"\n",
      "_________________________________________________________________\n",
      " Layer (type)                Output Shape              Param #   \n",
      "=================================================================\n",
      " conv2d (Conv2D)             (None, 64, 64, 32)        832       \n",
      "                                                                 \n",
      " max_pooling2d (MaxPooling2D  (None, 32, 32, 32)       0         \n",
      " )                                                               \n",
      "                                                                 \n",
      " dropout (Dropout)           (None, 32, 32, 32)        0         \n",
      "                                                                 \n",
      " conv2d_1 (Conv2D)           (None, 32, 32, 32)        9248      \n",
      "                                                                 \n",
      " max_pooling2d_1 (MaxPooling  (None, 32, 32, 32)       0         \n",
      " 2D)                                                             \n",
      "                                                                 \n",
      " conv2d_2 (Conv2D)           (None, 32, 32, 64)        18496     \n",
      "                                                                 \n",
      " max_pooling2d_2 (MaxPooling  (None, 32, 32, 64)       0         \n",
      " 2D)                                                             \n",
      "                                                                 \n",
      " conv2d_3 (Conv2D)           (None, 32, 32, 64)        36928     \n",
      "                                                                 \n",
      " max_pooling2d_3 (MaxPooling  (None, 16, 16, 64)       0         \n",
      " 2D)                                                             \n",
      "                                                                 \n",
      " dropout_1 (Dropout)         (None, 16, 16, 64)        0         \n",
      "                                                                 \n",
      " conv2d_4 (Conv2D)           (None, 16, 16, 128)       73856     \n",
      "                                                                 \n",
      " dropout_2 (Dropout)         (None, 16, 16, 128)       0         \n",
      "                                                                 \n",
      " conv2d_5 (Conv2D)           (None, 16, 16, 128)       147584    \n",
      "                                                                 \n",
      " max_pooling2d_4 (MaxPooling  (None, 8, 8, 128)        0         \n",
      " 2D)                                                             \n",
      "                                                                 \n",
      " flatten (Flatten)           (None, 8192)              0         \n",
      "                                                                 \n",
      " dense (Dense)               (None, 128)               1048704   \n",
      "                                                                 \n",
      " dropout_3 (Dropout)         (None, 128)               0         \n",
      "                                                                 \n",
      " dense_1 (Dense)             (None, 256)               33024     \n",
      "                                                                 \n",
      " dense_2 (Dense)             (None, 17)                4369      \n",
      "                                                                 \n",
      "=================================================================\n",
      "Total params: 1,373,041\n",
      "Trainable params: 1,373,041\n",
      "Non-trainable params: 0\n",
      "_________________________________________________________________\n"
     ]
    }
   ],
   "source": [
    "from keras.models import load_model\n",
    "from tensorflow.keras.optimizers import Adam\n",
    "\n",
    "model = load_model(\"models/model_170322_64b_rm.h5\")\n",
    "\n",
    "# model.compile(loss=\"sparse_categorical_crossentropy\", optimizer=Adam(learning_rate=0.0001),\n",
    "            #   metrics=['accuracy'])\n",
    "\n",
    "model.summary()"
   ]
  }
 ],
 "metadata": {
  "kernelspec": {
   "display_name": "Python 3 (ipykernel)",
   "language": "python",
   "name": "python3"
  },
  "language_info": {
   "codemirror_mode": {
    "name": "ipython",
    "version": 3
   },
   "file_extension": ".py",
   "mimetype": "text/x-python",
   "name": "python",
   "nbconvert_exporter": "python",
   "pygments_lexer": "ipython3",
   "version": "3.8.10"
  }
 },
 "nbformat": 4,
 "nbformat_minor": 5
}
